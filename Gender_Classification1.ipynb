{
  "cells": [
    {
      "cell_type": "code",
      "execution_count": null,
      "metadata": {
        "id": "HRB_KsZRoOWA"
      },
      "outputs": [],
      "source": [
        "import os\n",
        "import cv2\n",
        "import numpy as np\n",
        "from sklearn.model_selection import train_test_split\n",
        "from tensorflow.keras import layers, models\n",
        "from tensorflow.keras.preprocessing import image\n",
        "from tensorflow.keras.models import load_model\n",
        "from tensorflow import keras"
      ]
    },
    {
      "cell_type": "code",
      "execution_count": null,
      "metadata": {
        "id": "W1HkzyR7ocRn"
      },
      "outputs": [],
      "source": [
        "# Function to load images and labels from text files\n",
        "def load_data(data_dir, img_width, img_height):\n",
        "    images = []\n",
        "    labels = []\n",
        "    label_mapping = {'female': 0, 'male': 1}\n",
        "    for folder in os.listdir(data_dir):\n",
        "        if folder.startswith('.'):  # Skip hidden folders\n",
        "            continue\n",
        "        folder_path = os.path.join(data_dir, folder)\n",
        "        label = label_mapping[folder.lower()]  # Get the integer label\n",
        "        for file in os.listdir(folder_path):\n",
        "            if file.endswith('.jpg'):\n",
        "                image_path = os.path.join(folder_path, file)\n",
        "                image = cv2.imread(image_path)\n",
        "                image = cv2.resize(image, (img_width, img_height))  # Resize images\n",
        "                images.append(image)\n",
        "                labels.append(label)\n",
        "    return np.array(images), np.array(labels)"
      ]
    },
    {
      "cell_type": "code",
      "execution_count": null,
      "metadata": {
        "id": "HpGf4CdpohGh"
      },
      "outputs": [],
      "source": [
        "# Load and preprocess the dataset\n",
        "path = '/content/drive/MyDrive/Colab Notebooks/gender.v1i.folder/train'\n",
        "images, labels = load_data(path,128,128)\n",
        "labels = labels.astype(np.int32)"
      ]
    },
    {
      "cell_type": "code",
      "execution_count": null,
      "metadata": {
        "id": "1-Yz9UO4EtQ2"
      },
      "outputs": [],
      "source": []
    },
    {
      "cell_type": "code",
      "execution_count": null,
      "metadata": {
        "id": "rCX-7aEtohkp"
      },
      "outputs": [],
      "source": [
        "# Split the dataset into training and testing sets\n",
        "X_train, X_test, y_train, y_test = train_test_split(images, labels, test_size=0.2, random_state=42)"
      ]
    },
    {
      "cell_type": "code",
      "execution_count": null,
      "metadata": {
        "id": "I4q7EP4Woj6U"
      },
      "outputs": [],
      "source": [
        "# Define the CNN model\n",
        "model = models.Sequential([\n",
        "    layers.Conv2D(32, (3, 3), activation='relu', input_shape=(128, 128, 3)),\n",
        "    layers.MaxPooling2D((2, 2)),\n",
        "    layers.Conv2D(64, (3, 3), activation='relu'),\n",
        "    layers.MaxPooling2D((2, 2)),\n",
        "    layers.Conv2D(64, (3, 3), activation='relu'),\n",
        "    layers.Flatten(),\n",
        "    layers.Dense(64, activation='relu'),\n",
        "    layers.Dense(1, activation='sigmoid')\n",
        "])\n",
        "\n",
        "# Compile the model\n",
        "model.compile(optimizer='adam',\n",
        "              loss='binary_crossentropy',\n",
        "              metrics=['accuracy'])"
      ]
    },
    {
      "cell_type": "code",
      "execution_count": null,
      "metadata": {
        "colab": {
          "base_uri": "https://localhost:8080/"
        },
        "id": "D9ohjqTIon_k",
        "outputId": "774b6a87-85e9-4d18-e8b0-f1c72ee467c8"
      },
      "outputs": [],
      "source": [
        "# Train the model\n",
        "model.fit(X_train, y_train, epochs=10, batch_size=32, validation_data=(X_test, y_test))"
      ]
    },
    {
      "cell_type": "code",
      "execution_count": null,
      "metadata": {
        "colab": {
          "base_uri": "https://localhost:8080/"
        },
        "id": "u6FTs0J2oqzl",
        "outputId": "0539affe-a1d8-42cc-da00-51b6b5d6a854"
      },
      "outputs": [],
      "source": [
        "# Evaluate the model\n",
        "test_loss, test_accuracy = model.evaluate(X_test, y_test)\n",
        "print(\"Test Loss:\", test_loss)\n",
        "print(\"Test Accuracy:\", test_accuracy)"
      ]
    },
    {
      "cell_type": "code",
      "execution_count": null,
      "metadata": {
        "colab": {
          "base_uri": "https://localhost:8080/"
        },
        "id": "GuEbweRNotJu",
        "outputId": "ec81c5e4-cef0-41ad-804c-445db752dee4"
      },
      "outputs": [],
      "source": [
        "from google.colab import drive\n",
        "drive.mount('/content/drive')"
      ]
    },
    {
      "cell_type": "code",
      "execution_count": null,
      "metadata": {
        "colab": {
          "base_uri": "https://localhost:8080/"
        },
        "id": "d1PLxq7nox0G",
        "outputId": "e57757b3-9088-499e-e5d4-44d0be0a97ed"
      },
      "outputs": [],
      "source": [
        "# Assuming your model is called 'my_model'\n",
        "model.save('my_model.h5')"
      ]
    },
    {
      "cell_type": "code",
      "execution_count": null,
      "metadata": {
        "id": "q6yUpJ2io1h9"
      },
      "outputs": [],
      "source": [
        "# Function to preprocess user input image\n",
        "def preprocess_image(image_path, target_size):\n",
        "    img = image.load_img(image_path, target_size=target_size)\n",
        "    img_array = image.img_to_array(img)\n",
        "    img_array = np.expand_dims(img_array, axis=0)  # Add batch dimension\n",
        "    return img_array\n",
        "\n",
        "# Function to make prediction using the loaded model\n",
        "def predict_gender(image_array, model):\n",
        "    # Perform prediction\n",
        "    prediction = model.predict(image_array)\n",
        "    # Map prediction to class label\n",
        "    if prediction[0] > 0.5:\n",
        "        gender = 'Male'\n",
        "    else:\n",
        "        gender = 'Female'\n",
        "    return gender"
      ]
    },
    {
      "cell_type": "code",
      "execution_count": null,
      "metadata": {
        "id": "wKcjMwBN821n"
      },
      "outputs": [],
      "source": [
        "# Load the trained model\n",
        "model = load_model('trained_model.h5')"
      ]
    },
    {
      "cell_type": "code",
      "execution_count": null,
      "metadata": {
        "colab": {
          "base_uri": "https://localhost:8080/"
        },
        "id": "A4wk5ucK9Gqo",
        "outputId": "5cb03be2-2cbe-4880-81fa-c4c3913922d2"
      },
      "outputs": [],
      "source": [
        "# Preprocess user input image\n",
        "image_path = ''\n",
        "input_size = (128, 128)  # Adjust this size according to your model's input size\n",
        "processed_image = preprocess_image(image_path, input_size)\n",
        "\n",
        "# Perform prediction\n",
        "predicted_gender = predict_gender(processed_image, model)\n",
        "print(\"Predicted gender:\", predicted_gender)"
      ]
    },
    {
      "cell_type": "code",
      "execution_count": null,
      "metadata": {
        "id": "owwbUtEu9X8o"
      },
      "outputs": [],
      "source": []
    }
  ],
  "metadata": {
    "accelerator": "GPU",
    "colab": {
      "gpuType": "T4",
      "provenance": []
    },
    "kernelspec": {
      "display_name": "Python 3",
      "name": "python3"
    },
    "language_info": {
      "name": "python"
    }
  },
  "nbformat": 4,
  "nbformat_minor": 0
}
